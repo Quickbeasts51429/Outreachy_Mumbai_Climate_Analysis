{
 "cells": [
  {
   "cell_type": "code",
   "execution_count": 1,
   "id": "f3747ae6",
   "metadata": {},
   "outputs": [],
   "source": [
    "import matplotlib.pyplot as plt\n",
    "import csv\n",
    "import colorsys\n",
    "import numpy as np\n",
    "from scipy.interpolate import splrep, splev"
   ]
  },
  {
   "cell_type": "code",
   "execution_count": 2,
   "id": "7cc1e8f6",
   "metadata": {},
   "outputs": [],
   "source": [
    "def color_maker(n):\n",
    "    out=colorsys.hsv_to_rgb(n,1,1)\n",
    "    return out"
   ]
  },
  {
   "cell_type": "code",
   "execution_count": 3,
   "id": "56d49fae",
   "metadata": {},
   "outputs": [],
   "source": [
    "def plot_layer_data(Z,x_gap,y_gap,smooth):\n",
    "    X=['Jan','Feb','Mar','Apr','May','Jun','Jul','Aug','Sep','Oct','Nov','Dec']\n",
    "    list_num=[1,2,3,4,5,6,7,8,9,10,11,12]\n",
    "    size=len(Z)\n",
    "    plt.figure(figsize=(12,15))\n",
    "    for i in range(0,size):\n",
    "        Y=Z[i]\n",
    "        year_no=int(Y[0])\n",
    "        #direct graph\n",
    "        #plt.plot(X,Y[1:],color=color_maker(year_no-2005)/18),label=str(year_no))\n",
    "        #smooth graph\n",
    "        data_list=Y[1:]\n",
    "        bspl=splrep(list_num,data_list,s=smooth)\n",
    "        bspl_y=splev(list_num,bspl)\n",
    "        plt.plot(X,bspl_y,color=color_maker((year_no-2005)/18),label=str(year_no))\n",
    "        \n",
    "    plt.xlabel(\"Months\")\n",
    "    plt.ylabel(\"Value\")\n",
    "    plt.title(\"Albedo Data\")\n",
    "    plt.legend(bbox_to_anchor =(x_gap,y_gap))\n",
    "    plt.savefig('Albedo Plots '+str(smooth),bbox_inches=\"tight\",dpi=800)\n",
    "    plt.show"
   ]
  },
  {
   "cell_type": "code",
   "execution_count": 4,
   "id": "c674900f",
   "metadata": {},
   "outputs": [],
   "source": [
    "#read albedo data from csv and make data-array for the years\n",
    "data=[]\n",
    "with open('albedo_data.csv',encoding='utf-8-sig') as file:\n",
    "    reader=csv.reader(file)\n",
    "    for row in reader:\n",
    "        data.append(float(row[0]))\n",
    "file.close()"
   ]
  },
  {
   "cell_type": "code",
   "execution_count": 5,
   "id": "206535eb",
   "metadata": {},
   "outputs": [],
   "source": [
    "i=0\n",
    "year=2005\n",
    "year_data=[]\n",
    "full_data=[]\n",
    "while(i+12<len(data)):\n",
    "    year_data=[]\n",
    "    year_data.append(str(year))\n",
    "    year_data+=data[i:i+12]\n",
    "    full_data.append(year_data)\n",
    "    i+=12\n",
    "    year+=1\n",
    "year_data=[year]\n",
    "year_data+=data[i:len(data)]\n",
    "full_data.append(year_data)"
   ]
  },
  {
   "cell_type": "code",
   "execution_count": null,
   "id": "5be5b14e",
   "metadata": {},
   "outputs": [],
   "source": [
    "plot_layer_data(full_data[:-1],1.15,0.9,2)"
   ]
  },
  {
   "cell_type": "code",
   "execution_count": null,
   "id": "2b0a00b1",
   "metadata": {},
   "outputs": [],
   "source": []
  }
 ],
 "metadata": {
  "kernelspec": {
   "display_name": "Python 3 (ipykernel)",
   "language": "python",
   "name": "python3"
  },
  "language_info": {
   "codemirror_mode": {
    "name": "ipython",
    "version": 3
   },
   "file_extension": ".py",
   "mimetype": "text/x-python",
   "name": "python",
   "nbconvert_exporter": "python",
   "pygments_lexer": "ipython3",
   "version": "3.9.12"
  }
 },
 "nbformat": 4,
 "nbformat_minor": 5
}
