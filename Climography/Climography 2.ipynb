{
 "cells": [
  {
   "cell_type": "code",
   "execution_count": 1,
   "id": "07ebfbaf",
   "metadata": {},
   "outputs": [],
   "source": [
    "import matplotlib.pyplot as plt\n",
    "import pandas as pd\n",
    "import csv"
   ]
  },
  {
   "cell_type": "code",
   "execution_count": 2,
   "id": "f8258679",
   "metadata": {},
   "outputs": [],
   "source": [
    "def climo_plot(r,t,title):\n",
    "    width = .5 \n",
    "    m1_t = pd.DataFrame({\n",
    "     'Rainfall (mm)' : r,\n",
    "     'Temperature' : t})\n",
    "\n",
    "    m1_t[['Rainfall (mm)']].plot(kind='bar', width = width,color='black')\n",
    "    m1_t['Temperature'].plot(secondary_y=True,color='red',linestyle=\"dashed\",marker=\"o\")\n",
    "\n",
    "    ax = plt.gca()\n",
    "    plt.xlim([-width, 12-width])\n",
    "    ax.set_xticklabels(('J','F','M','A','M','J','J','A','S','O','N','D'))\n",
    "    plt.ylabel(\"Temperature(C°)\")\n",
    "    \n",
    "    plt.title(title)\n",
    "    plt.savefig(title,bbox_inches=\"tight\",dpi=800)\n",
    "    plt.show()"
   ]
  },
  {
   "cell_type": "code",
   "execution_count": 3,
   "id": "00cdb658",
   "metadata": {},
   "outputs": [],
   "source": [
    "def load(fname):\n",
    "    l_new=[]\n",
    "    with open(fname, encoding=\"utf-8-sig\") as filex:\n",
    "        reader = csv.reader(filex)\n",
    "        for row in reader:\n",
    "            l_new=row \n",
    "    filex.close()\n",
    "    for i in range(0,365):\n",
    "        l_new[i]=float(l_new[i])\n",
    "    return l_new"
   ]
  },
  {
   "cell_type": "code",
   "execution_count": 4,
   "id": "d01716b2",
   "metadata": {},
   "outputs": [],
   "source": [
    "def add(l,r,x):\n",
    "    s=0\n",
    "    for i in range(l,r):\n",
    "        s+=x[i]\n",
    "    return s"
   ]
  },
  {
   "cell_type": "code",
   "execution_count": 5,
   "id": "0385edd2",
   "metadata": {},
   "outputs": [],
   "source": [
    "def averagise(x):\n",
    "    l_new=[add(0,31,x)/31,add(31,59,x)/28,add(59,90,x)/31,add(90,120,x)/30,add(120,151,x)/31,add(151,181,x)/30,add(181,212,x)/31,add(212,243,x)/31,add(243,273,x)/30,add(273,304,x)/31,add(304,334,x)/30,add(334,365,x)/31]\n",
    "    return l_new"
   ]
  },
  {
   "cell_type": "code",
   "execution_count": 6,
   "id": "c4a710dc",
   "metadata": {},
   "outputs": [],
   "source": [
    "def load_and_average(fname):\n",
    "    l_new=load(fname)\n",
    "    avg_new=averagise(l_new)\n",
    "    return avg_new"
   ]
  },
  {
   "cell_type": "code",
   "execution_count": 7,
   "id": "b5d51df1",
   "metadata": {},
   "outputs": [],
   "source": [
    "avg_rain=load_and_average('rainfall.csv')\n",
    "avg_tmax=load_and_average('tmax.csv')\n",
    "avg_tmin=load_and_average('tmin.csv')"
   ]
  },
  {
   "cell_type": "code",
   "execution_count": null,
   "id": "c3cb5907",
   "metadata": {},
   "outputs": [
    {
     "data": {
      "image/png": "[encoded data removed]",
      "text/plain": [
       "<Figure size 432x288 with 2 Axes>"
      ]
     },
     "metadata": {
      "needs_background": "light"
     },
     "output_type": "display_data"
    }
   ],
   "source": [
    "climo_plot(avg_rain,avg_tmax,\"Mumbai tmax\")\n",
    "climo_plot(avg_rain,avg_tmin,\"Mumbai tmin\")"
   ]
  },
  {
   "cell_type": "code",
   "execution_count": null,
   "id": "bcee9dc0",
   "metadata": {},
   "outputs": [],
   "source": []
  }
 ],
 "metadata": {
  "kernelspec": {
   "display_name": "Python 3 (ipykernel)",
   "language": "python",
   "name": "python3"
  },
  "language_info": {
   "codemirror_mode": {
    "name": "ipython",
    "version": 3
   },
   "file_extension": ".py",
   "mimetype": "text/x-python",
   "name": "python",
   "nbconvert_exporter": "python",
   "pygments_lexer": "ipython3",
   "version": "3.9.12"
  }
 },
 "nbformat": 4,
 "nbformat_minor": 5
}
